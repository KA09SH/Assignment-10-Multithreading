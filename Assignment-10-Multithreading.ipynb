{
 "cells": [
  {
   "cell_type": "code",
   "execution_count": null,
   "id": "58aa3908",
   "metadata": {},
   "outputs": [],
   "source": [
    "#Q1. What is multithreading in python? Why is it used? Name the module used to handle threads in python.\n",
    "\n",
    "#A.  Multithreading refers to concurrently executing multiple threads by rapidly switching the control of the CPU between threads (called context switching).\n",
    "\n",
    "#.   There are two main modules of multithreading used to handle threads in Python.\n",
    "\n",
    "# The thread module\n",
    "# The threading module\n"
   ]
  },
  {
   "cell_type": "code",
   "execution_count": null,
   "id": "dbe7ba38",
   "metadata": {},
   "outputs": [],
   "source": [
    "#Q2. Why threading module used? Write the use of the following functions.\n",
    "\n",
    "#A. The threading module is used for creating, controlling and managing threads in python.\n",
    "\n",
    "#activeCount() - This function returns the number of Thread objects currently alive.\n",
    "\n",
    "#current_thread() - This function will return the current Thread object, corresponding to the caller's thread of control(which is in the control of caller currently).\n",
    "\n",
    "#enumerate() - This method returns a list of all Thread objects currently alive. The list includes daemonic threads(when the program quits, all the daemon threads associated with it are killed automatically), \n",
    "#              dummy thread objects created by the current thread, and the main thread."
   ]
  },
  {
   "cell_type": "code",
   "execution_count": null,
   "id": "5d43806c",
   "metadata": {},
   "outputs": [],
   "source": [
    "#Q3. Explain the following functions.\n",
    "\n",
    "#run() - this method executes any target function belonging to a given thread object that is now active. It normally executes in the background after the . start() method is invoked\n",
    "\n",
    "#start() - this method is an inbuilt method of the Thread class of the threading module, it is used to start a thread's activity.\n",
    "\n",
    "#join() - it takes all the elements of an iterable and joins them into a single string. It will return the joined string. You have to specify a string separator that will be used to separate the concatenated string.\n",
    "\n",
    "#isAlive() - it is used to check whether that thread is alive or not, ie, it is still running or not.\n"
   ]
  },
  {
   "cell_type": "code",
   "execution_count": 4,
   "id": "ed6ed6f8",
   "metadata": {},
   "outputs": [
    {
     "name": "stdout",
     "output_type": "stream",
     "text": [
      "Square: 25\n",
      "Cube: 125\n"
     ]
    }
   ],
   "source": [
    "#Q4. Write a python program to create two threads. Thread one must print the list of squares and thread two must print the list of cubes.\n",
    "\n",
    "#A.\n",
    "\n",
    "import threading\n",
    "\n",
    "def squarer(n):\n",
    "    print('Square: {}'.format(n * n))\n",
    "\n",
    "def cuber(n):\n",
    "    print('Cube: {}'.format(n * n * n))\n",
    "    \n",
    "if __name__ == '__main__':\n",
    "    t1 = threading.Thread(target=squarer, args=(5,)) \n",
    "    t2 = threading.Thread(target=cuber, args=(5,)) \n",
    "\n",
    "\n",
    "t1.start() \n",
    "t2.start() \n",
    "\n",
    "t1.join() \n",
    "t2.join() \n"
   ]
  },
  {
   "cell_type": "code",
   "execution_count": null,
   "id": "948ca124",
   "metadata": {},
   "outputs": [],
   "source": [
    "#Q5. State advantages and disadvantages of multithreading.\n",
    "\n",
    "#A. Advantages:\n",
    "\n",
    "#Improved performance\n",
    "#Responsiveness\n",
    "#Better resource utilization\n",
    "#Simplified modeling\n",
    "#Parallelism\n",
    "\n",
    "#Disadvantages:\n",
    "\n",
    "#Complexity\n",
    "#Synchronization overhead\n",
    "#Context switching\n",
    "#Hard to predict behavior\n",
    "#Limited by hardware\n",
    "\n"
   ]
  },
  {
   "cell_type": "code",
   "execution_count": null,
   "id": "4320776b",
   "metadata": {},
   "outputs": [],
   "source": [
    "#Q6. Explain deadlocks and race conditions.\n",
    "\n",
    "\n",
    "#A. Deadlock exists when two threads seek one lock simultaneously.\n",
    "#.  A race condition occurs when two threads use the same variable at a given time.\n",
    "\n",
    "\n",
    "\n",
    "\n",
    "\n"
   ]
  },
  {
   "cell_type": "code",
   "execution_count": null,
   "id": "b7dd73b6",
   "metadata": {},
   "outputs": [],
   "source": []
  },
  {
   "cell_type": "code",
   "execution_count": null,
   "id": "ff989554",
   "metadata": {},
   "outputs": [],
   "source": []
  },
  {
   "cell_type": "code",
   "execution_count": null,
   "id": "5abba903",
   "metadata": {},
   "outputs": [],
   "source": []
  },
  {
   "cell_type": "code",
   "execution_count": null,
   "id": "f911d8dc",
   "metadata": {},
   "outputs": [],
   "source": []
  },
  {
   "cell_type": "code",
   "execution_count": null,
   "id": "91f3d6f6",
   "metadata": {},
   "outputs": [],
   "source": []
  },
  {
   "cell_type": "code",
   "execution_count": null,
   "id": "c50dd185",
   "metadata": {},
   "outputs": [],
   "source": []
  },
  {
   "cell_type": "code",
   "execution_count": null,
   "id": "648162a0",
   "metadata": {},
   "outputs": [],
   "source": []
  },
  {
   "cell_type": "code",
   "execution_count": null,
   "id": "3bbec49c",
   "metadata": {},
   "outputs": [],
   "source": []
  },
  {
   "cell_type": "code",
   "execution_count": null,
   "id": "83836e78",
   "metadata": {},
   "outputs": [],
   "source": []
  },
  {
   "cell_type": "code",
   "execution_count": null,
   "id": "acc1745f",
   "metadata": {},
   "outputs": [],
   "source": []
  }
 ],
 "metadata": {
  "kernelspec": {
   "display_name": "Python 3 (ipykernel)",
   "language": "python",
   "name": "python3"
  },
  "language_info": {
   "codemirror_mode": {
    "name": "ipython",
    "version": 3
   },
   "file_extension": ".py",
   "mimetype": "text/x-python",
   "name": "python",
   "nbconvert_exporter": "python",
   "pygments_lexer": "ipython3",
   "version": "3.10.9"
  }
 },
 "nbformat": 4,
 "nbformat_minor": 5
}
